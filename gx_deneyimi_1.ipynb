{
 "cells": [
  {
   "attachments": {},
   "cell_type": "markdown",
   "metadata": {},
   "source": [
    "# Great Expectations Experience 001 #"
   ]
  },
  {
   "cell_type": "code",
   "execution_count": null,
   "metadata": {},
   "outputs": [],
   "source": [
    "import pandas as pd\n",
    "import great_expectations as gx\n",
    "import warnings\n",
    "\n",
    "warnings.filterwarnings(\"ignore\")"
   ]
  },
  {
   "cell_type": "code",
   "execution_count": null,
   "metadata": {},
   "outputs": [],
   "source": [
    "# Create a context for GX\n",
    "context = gx.get_context()\n",
    "\n",
    "# Read the data file into Pandas dataframe\n",
    "df = pd.read_csv(\"https://aiverse-sample-data-files.s3.eu-central-1.amazonaws.com/csv/bigmart_retail_sales.csv\")\n",
    "\n",
    "# Convert Pandas dataframe to GX dataframe\n",
    "dfGE = gx.from_pandas(df)\n",
    "\n",
    "# Display dataframe\n",
    "display(dfGE)"
   ]
  },
  {
   "attachments": {},
   "cell_type": "markdown",
   "metadata": {},
   "source": [
    "# 1 - Check if column is NULL : Outlet_Size"
   ]
  },
  {
   "attachments": {},
   "cell_type": "markdown",
   "metadata": {},
   "source": [
    "We would like to see if there is any NULL value in **Outlet_Size** column. Total rows checked (element_count) and failed rows (unexpected_count) can be reviewed in the result output."
   ]
  },
  {
   "cell_type": "code",
   "execution_count": null,
   "metadata": {},
   "outputs": [],
   "source": [
    "chk_null_outlet_size = dfGE.expect_column_values_to_not_be_null(\"Outlet_Size\")\n",
    "\n",
    "print(chk_null_outlet_size)"
   ]
  },
  {
   "attachments": {},
   "cell_type": "markdown",
   "metadata": {},
   "source": [
    "Print total and failed counts."
   ]
  },
  {
   "cell_type": "code",
   "execution_count": null,
   "metadata": {},
   "outputs": [],
   "source": [
    "success = chk_null_outlet_size.success\n",
    "total = chk_null_outlet_size.result[\"element_count\"]\n",
    "unexpected = chk_null_outlet_size.result[\"unexpected_count\"]\n",
    "\n",
    "print(f\"Success: {success}\")\n",
    "print(f\"Total rows: {total}\")\n",
    "print(f\"Unexpected rows (errors): {unexpected}\")"
   ]
  },
  {
   "attachments": {},
   "cell_type": "markdown",
   "metadata": {},
   "source": [
    "# 2 - Check if column is between given values  : Outlet_Establishment_Year"
   ]
  },
  {
   "cell_type": "code",
   "execution_count": null,
   "metadata": {},
   "outputs": [],
   "source": [
    "dfGE[\"Outlet_Establishment_Year\"] = pd.to_numeric(dfGE[\"Outlet_Establishment_Year\"])\n",
    "\n",
    "chk_is_between_est_year = dfGE.expect_column_values_to_be_between(\"Outlet_Establishment_Year\", 2004, 2010)\n",
    "\n",
    "print(chk_is_between_est_year)"
   ]
  },
  {
   "attachments": {},
   "cell_type": "markdown",
   "metadata": {},
   "source": [
    "Print total and failed counts."
   ]
  },
  {
   "cell_type": "code",
   "execution_count": null,
   "metadata": {},
   "outputs": [],
   "source": [
    "success = chk_is_between_est_year.success\n",
    "total = chk_is_between_est_year.result[\"element_count\"]\n",
    "unexpected = chk_is_between_est_year.result[\"unexpected_count\"]\n",
    "\n",
    "print(f\"Success: {success}\")\n",
    "print(f\"Total rows: {total}\")\n",
    "print(f\"Unexpected rows (errors): {unexpected}\")"
   ]
  },
  {
   "attachments": {},
   "cell_type": "markdown",
   "metadata": {},
   "source": [
    "# 3 - Check if distinct column values are in a given list : Item_Type\n",
    "\n",
    "We have a list that consists of all item types in the data set except one (**Soft Drinks** for this example). If we check whether Item_Type is in our list or not, the **success** value of the result will be **false**.\n",
    "\n",
    "## Failed example ##"
   ]
  },
  {
   "cell_type": "code",
   "execution_count": null,
   "metadata": {},
   "outputs": [],
   "source": [
    "item_types_list_1 = ['Dairy', 'Meat', 'Fruits and Vegetables', 'Household', 'Baking Goods', 'Snack Foods', 'Frozen Foods', \n",
    "                     'Breakfast', 'Health and Hygiene', 'Hard Drinks', 'Canned', 'Breads', 'Starchy Foods', 'Others', 'Seafood']\n",
    "\n",
    "chk_is_in_list_item_type = dfGE.expect_column_distinct_values_to_equal_set(\"Item_Type\", item_types_list_1)\n",
    "\n",
    "print(chk_is_in_list_item_type)"
   ]
  },
  {
   "attachments": {},
   "cell_type": "markdown",
   "metadata": {},
   "source": [
    "Print total count and success."
   ]
  },
  {
   "cell_type": "code",
   "execution_count": null,
   "metadata": {},
   "outputs": [],
   "source": [
    "total = chk_is_in_list_item_type.result[\"element_count\"]\n",
    "success = chk_is_in_list_item_type.success\n",
    "print(f\"Total rows: {total}\")\n",
    "print(f\"Success: {success}\")"
   ]
  },
  {
   "attachments": {},
   "cell_type": "markdown",
   "metadata": {},
   "source": [
    "## Passed example\n",
    "\n",
    "After adding **Soft Drinks** to Item Types list, let's run the expectation again. This time, **success** will be **true** because all distinct values completely match with our list."
   ]
  },
  {
   "cell_type": "code",
   "execution_count": null,
   "metadata": {},
   "outputs": [],
   "source": [
    "item_types_list_2 = ['Dairy', 'Soft Drinks', 'Meat', 'Fruits and Vegetables', 'Household', 'Baking Goods', 'Snack Foods', 'Frozen Foods', \n",
    "                     'Breakfast', 'Health and Hygiene', 'Hard Drinks', 'Canned', 'Breads', 'Starchy Foods', 'Others', 'Seafood']\n",
    "\n",
    "chk_is_in_list_item_type = dfGE.expect_column_distinct_values_to_equal_set(\"Item_Type\", item_types_list_2)\n",
    "\n",
    "print(chk_is_in_list_item_type)"
   ]
  },
  {
   "attachments": {},
   "cell_type": "markdown",
   "metadata": {},
   "source": [
    "Print total and failed counts."
   ]
  },
  {
   "cell_type": "code",
   "execution_count": null,
   "metadata": {},
   "outputs": [],
   "source": [
    "total = chk_is_in_list_item_type.result[\"element_count\"]\n",
    "success = chk_is_in_list_item_type.success\n",
    "print(f\"Total rows: {total}\")\n",
    "print(f\"Success: {success}\")"
   ]
  }
 ],
 "metadata": {
  "kernelspec": {
   "display_name": "Python 3",
   "language": "python",
   "name": "python3"
  },
  "language_info": {
   "codemirror_mode": {
    "name": "ipython",
    "version": 3
   },
   "file_extension": ".py",
   "mimetype": "text/x-python",
   "name": "python",
   "nbconvert_exporter": "python",
   "pygments_lexer": "ipython3",
   "version": "3.10.8"
  },
  "orig_nbformat": 4
 },
 "nbformat": 4,
 "nbformat_minor": 2
}
